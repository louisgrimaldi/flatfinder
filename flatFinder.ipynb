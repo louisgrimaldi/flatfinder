{
 "cells": [
  {
   "cell_type": "code",
   "execution_count": 137,
   "metadata": {},
   "outputs": [],
   "source": [
    "import pandas as pd\n",
    "import numpy as np\n",
    "from selenium import webdriver\n",
    "from selenium.webdriver.common.keys import Keys\n",
    "from bs4 import BeautifulSoup\n",
    "from urllib.request import urlopen\n",
    "import os\n",
    "import re\n",
    "from pprint import pprint"
   ]
  },
  {
   "cell_type": "code",
   "execution_count": 150,
   "metadata": {},
   "outputs": [],
   "source": [
    "# Parameters\n",
    "parameters = {\n",
    "    'max_price' : 4000,\n",
    "    'radius' : 3\n",
    "}\n",
    "radius = parameters['radius']\n",
    "price = parameters['max_price']"
   ]
  },
  {
   "cell_type": "code",
   "execution_count": 149,
   "metadata": {},
   "outputs": [],
   "source": [
    "def get_id_from_url(url):\n",
    "    \n",
    "    return (re.findall('\\d+', url))[0]"
   ]
  },
  {
   "cell_type": "code",
   "execution_count": 153,
   "metadata": {},
   "outputs": [],
   "source": [
    "def create_url_from_id(id):\n",
    "    \n",
    "    url = f'https://www.rightmove.co.uk/properties/{id}#/'\n",
    "    return url"
   ]
  },
  {
   "cell_type": "code",
   "execution_count": 154,
   "metadata": {},
   "outputs": [],
   "source": [
    "results = list()\n",
    "\n",
    "for page in range(0, 6):\n",
    "\n",
    "    index = page * 24\n",
    "    rightmove = f'https://www.rightmove.co.uk/property-to-rent/find.html?locationIdentifier=STATION%5E1703&minBedrooms=3&maxPrice={price}&minPrice=1000&radius={radius}&index={index}&propertyTypes=&includeLetAgreed=false&mustHave=&dontShow=&furnishTypes=&keywords='\n",
    "\n",
    "    # BeautifulSoup\n",
    "    html = urlopen(rightmove)\n",
    "    soup = BeautifulSoup(html.read())\n",
    "    \n",
    "\n",
    "    search_results = soup.find_all('a', class_='propertyCard-link', href=True)\n",
    "    \n",
    "    for a in search_results:\n",
    "        results.append(a['href'])\n",
    "        \n",
    "results = list(set(results))[1:]\n",
    "listing_ids = list(map(get_id_from_url, results))\n",
    "url_list = list(map(create_url_from_id, listing_ids))"
   ]
  },
  {
   "cell_type": "code",
   "execution_count": 157,
   "metadata": {},
   "outputs": [
    {
     "data": {
      "text/plain": [
       "'https://www.rightmove.co.uk/properties/85375648#/'"
      ]
     },
     "execution_count": 157,
     "metadata": {},
     "output_type": "execute_result"
    }
   ],
   "source": [
    "url_list[0]"
   ]
  },
  {
   "cell_type": "code",
   "execution_count": 158,
   "metadata": {},
   "outputs": [],
   "source": [
    "listing_details = {\n",
    "    'price' : None,\n",
    "    'availability' : None,\n",
    "    'furnish_type' : None,\n",
    "    'bedrooms' : None,\n",
    "    'bathrooms' : None,\n",
    "    'students' : None,\n",
    "    'family' : None,\n",
    "    'double_bedrooms' : None,\n",
    "    'single_bedrooms' : None,\n",
    "}"
   ]
  },
  {
   "cell_type": "code",
   "execution_count": null,
   "metadata": {},
   "outputs": [],
   "source": []
  }
 ],
 "metadata": {
  "kernelspec": {
   "display_name": "Python 3",
   "language": "python",
   "name": "python3"
  },
  "language_info": {
   "codemirror_mode": {
    "name": "ipython",
    "version": 3
   },
   "file_extension": ".py",
   "mimetype": "text/x-python",
   "name": "python",
   "nbconvert_exporter": "python",
   "pygments_lexer": "ipython3",
   "version": "3.7.6"
  }
 },
 "nbformat": 4,
 "nbformat_minor": 4
}
